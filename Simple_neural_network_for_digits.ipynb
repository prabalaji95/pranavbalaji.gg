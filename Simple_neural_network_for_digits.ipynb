{
  "cells": [
    {
      "cell_type": "markdown",
      "metadata": {
        "id": "view-in-github",
        "colab_type": "text"
      },
      "source": [
        "<a href=\"https://colab.research.google.com/github/prabalaji95/pranavbalaji.school/blob/main/Simple_neural_network_for_digits.ipynb\" target=\"_parent\"><img src=\"https://colab.research.google.com/assets/colab-badge.svg\" alt=\"Open In Colab\"/></a>"
      ]
    },
    {
      "cell_type": "markdown",
      "metadata": {
        "id": "5S649BJJQgWN"
      },
      "source": [
        "# Simple Fully Connected Neural Network Example\n",
        "\n",
        "In this tutorial, we will implemnet a simple fully connected neural network with TensorFlow.\n",
        "\n",
        "\n"
      ]
    },
    {
      "cell_type": "markdown",
      "metadata": {
        "id": "-VZisChDOXkC"
      },
      "source": [
        "![GettingStarted](https://mooc-styleguide.s3.amazonaws.com/MOOC-Styles/Active+Learning+Headers/Links/ALH_GettingStarted.png)\n",
        "\n",
        "\n",
        "#[Step 1] **READ**: Simple Digit Recognition with Neural Network\n",
        "\n",
        "In the prescriptions, doctors have different hand writing styles. When we have the hand written digit pictures, it might be hard to recognize someone's handwriting on the first sight. What would be a better way to scan the pictures and extract key information? Can we apply AI to simplify the process?\n",
        "\n",
        "##  AI-Driven Solution: Simple Fully Connected Neural Network\n",
        "\n",
        "By building a simple neural network model, we could ask AI to help us capture the features in each picture and training our model to recognize the digits.\n",
        "\n",
        "<br>\n",
        "\n",
        "---\n"
      ]
    },
    {
      "cell_type": "markdown",
      "metadata": {
        "id": "rEtb8QDzQgWT"
      },
      "source": [
        "## Simple Neural Network Overview\n",
        "![Simple NN](https://research.aimultiple.com/wp-content/uploads/2017/08/neural-network.png)\n",
        "\n",
        "\n",
        "\n",
        "### MNIST Dataset Overview\n",
        "\n",
        "This example is using MNIST handwritten digits. The dataset contains 60,000 examples for training and 10,000 examples for testing. The digits have been size-normalized and centered in a fixed-size image (28x28 pixels) with values from 0 to 1. For simplicity, each image has been flattened and converted to a 1-D numpy array of 784 features (28*28).\n",
        "\n",
        "![MNIST Dataset](https://miro.medium.com/max/530/1*VAjYygFUinnygIx9eVCrQQ.png)\n",
        "\n",
        "More info: http://yann.lecun.com/exdb/mnist/"
      ]
    },
    {
      "cell_type": "markdown",
      "metadata": {
        "id": "GyGigtEvQgWV"
      },
      "source": [
        "#[Step 2] **RUN**: Setting Up the Colab Environment\n",
        "\n",
        "**Importing Packages**\n",
        "\n",
        "Python packages enable different functions, providing easy ways of manipulating data and building models. As a first step, we 'import' packages to set up our environment in a way that allows us to take advantage of different capabilities.\n"
      ]
    },
    {
      "cell_type": "code",
      "execution_count": null,
      "metadata": {
        "id": "RrkLi8ZRQgWY",
        "colab": {
          "base_uri": "https://localhost:8080/"
        },
        "outputId": "1c776997-d974-442d-d29a-fc7f10c1f50f"
      },
      "outputs": [
        {
          "output_type": "stream",
          "name": "stdout",
          "text": [
            "Colab only includes TensorFlow 2.x; %tensorflow_version has no effect.\n"
          ]
        }
      ],
      "source": [
        "# use TF2\n",
        "%tensorflow_version 2.x\n",
        "\n",
        "import numpy\n",
        "import keras\n",
        "from keras.datasets import mnist\n",
        "from keras.models import Sequential\n",
        "from keras.layers import Dense\n",
        "from keras.layers import Dropout\n",
        "from keras.layers import Flatten\n",
        "from keras import backend as K\n",
        "import matplotlib.pyplot as plt\n",
        "import tensorflow as tf\n",
        "K.set_image_data_format('channels_first')"
      ]
    },
    {
      "cell_type": "markdown",
      "metadata": {
        "id": "OyOBmmaBQgWc"
      },
      "source": [
        "**Set the seed**\n",
        "<br>\n",
        "Setting the seed will keep the starting number used to generate a sequence of random numbers the same – it ensures that you get the same result if you start with that same seed each time you run the same process. Using a constant seed value will give us reproducibility of results.\n",
        "\n",
        "<br>\n",
        "\n",
        "The randomization part is the initialization on the model parameters."
      ]
    },
    {
      "cell_type": "code",
      "execution_count": null,
      "metadata": {
        "id": "1YWQdnrKQgWd"
      },
      "outputs": [],
      "source": [
        "# fix random seed for reproducibility\n",
        "seed = 7\n",
        "numpy.random.seed(seed)\n",
        "tf.keras.utils.set_random_seed(seed)\n",
        "tf.config.experimental.enable_op_determinism()"
      ]
    },
    {
      "cell_type": "markdown",
      "metadata": {
        "id": "fxmMKen8QgWg"
      },
      "source": [
        "\n",
        "**Loading Dataset**\n",
        "\n",
        "\n",
        "The MNINST train and test datasets are splited by the authors at the very beginning.\n",
        "\n",
        "It can enable a consistent metric for evaluating different classification models.\n",
        "\n",
        "<br>\n",
        "\n",
        "For more information, please see [MINST Dataset](http://yann.lecun.com/exdb/mnist/)\n"
      ]
    },
    {
      "cell_type": "code",
      "execution_count": null,
      "metadata": {
        "id": "HGWAom6DTkDx",
        "colab": {
          "base_uri": "https://localhost:8080/"
        },
        "outputId": "5c17d1b2-1159-4548-f0f8-0b8f36043179"
      },
      "outputs": [
        {
          "output_type": "stream",
          "name": "stdout",
          "text": [
            "Downloading data from https://storage.googleapis.com/tensorflow/tf-keras-datasets/mnist.npz\n",
            "11490434/11490434 [==============================] - 0s 0us/step\n"
          ]
        }
      ],
      "source": [
        "# load data\n",
        "(X_train_raw, y_train_raw), (X_test_raw, y_test_raw) = mnist.load_data()"
      ]
    },
    {
      "cell_type": "markdown",
      "metadata": {
        "id": "QXRYiSQRTtvl"
      },
      "source": [
        "# [Step 3] MNIST Data Exploration"
      ]
    },
    {
      "cell_type": "markdown",
      "metadata": {
        "id": "RkWYaq4fabpm"
      },
      "source": [
        "## X Data"
      ]
    },
    {
      "cell_type": "code",
      "execution_count": null,
      "metadata": {
        "id": "JMiKR_AGTwS3",
        "colab": {
          "base_uri": "https://localhost:8080/"
        },
        "outputId": "c0e7a232-2e85-457d-bd2c-d4fe1ebc60a5"
      },
      "outputs": [
        {
          "output_type": "stream",
          "name": "stdout",
          "text": [
            "In the Train dataset, there are 60,000 images (data points). Each image (data point) is a 28 * 28 matrix.\n",
            "(60000, 28, 28)\n",
            "\n",
            "\n",
            "In the Test dataset, there are 10,000 images (data points). Each image (data point) is a 28 * 28 matrix.\n",
            "(10000, 28, 28)\n"
          ]
        }
      ],
      "source": [
        "print('In the Train dataset, there are 60,000 images (data points). Each image (data point) is a 28 * 28 matrix.')\n",
        "print(X_train_raw.shape)\n",
        "print('\\n')\n",
        "\n",
        "\n",
        "print('In the Test dataset, there are 10,000 images (data points). Each image (data point) is a 28 * 28 matrix.')\n",
        "print(X_test_raw.shape)"
      ]
    },
    {
      "cell_type": "code",
      "execution_count": null,
      "metadata": {
        "id": "4LETU8ePqmI1",
        "colab": {
          "base_uri": "https://localhost:8080/"
        },
        "outputId": "25b40d8b-280f-4e4d-f664-dbbb58107598"
      },
      "outputs": [
        {
          "output_type": "execute_result",
          "data": {
            "text/plain": [
              "(60000,)"
            ]
          },
          "metadata": {},
          "execution_count": 17
        }
      ],
      "source": [
        "y_train_raw.shape"
      ]
    },
    {
      "cell_type": "code",
      "execution_count": null,
      "metadata": {
        "id": "W1h2pWmJXVzV",
        "colab": {
          "base_uri": "https://localhost:8080/"
        },
        "outputId": "bb33d508-b6dc-42c0-e853-6712438a54d2"
      },
      "outputs": [
        {
          "output_type": "stream",
          "name": "stdout",
          "text": [
            "array([[  0,   0,   0,   0,   0,   0,   0,   0,   0,   0,   0,   0,   0,   0,   0,   0,   0,   0,   0,   0,   0,   0,   0,   0,   0,   0,   0,   0],\n",
            "       [  0,   0,   0,   0,   0,   0,   0,   0,   0,   0,   0,   0,   0,   0,   0,   0,   0,   0,   0,   0,   0,   0,   0,   0,   0,   0,   0,   0],\n",
            "       [  0,   0,   0,   0,   0,   0,   0,   0,   0,   0,   0,   0,   0,   0,   0,   0,   0,   0,   0,   0,   0,   0,   0,   0,   0,   0,   0,   0],\n",
            "       [  0,   0,   0,   0,   0,   0,   0,   0,   0,   0,   0,   0,   0,   0,   0,   0,   0,   0,   0,   0,   0,   0,   0,   0,   0,   0,   0,   0],\n",
            "       [  0,   0,   0,   0,   0,   0,   0,   0,   0,   0,   0,  42, 118, 219, 166, 118, 118,   6,   0,   0,   0,   0,   0,   0,   0,   0,   0,   0],\n",
            "       [  0,   0,   0,   0,   0,   0,   0,   0,   0,   0, 103, 242, 254, 254, 254, 254, 254,  66,   0,   0,   0,   0,   0,   0,   0,   0,   0,   0],\n",
            "       [  0,   0,   0,   0,   0,   0,   0,   0,   0,   0,  18, 232, 254, 254, 254, 254, 254, 238,  70,   0,   0,   0,   0,   0,   0,   0,   0,   0],\n",
            "       [  0,   0,   0,   0,   0,   0,   0,   0,   0,   0,   0, 104, 244, 254, 224, 254, 254, 254, 141,   0,   0,   0,   0,   0,   0,   0,   0,   0],\n",
            "       [  0,   0,   0,   0,   0,   0,   0,   0,   0,   0,   0,   0, 207, 254, 210, 254, 254, 254,  34,   0,   0,   0,   0,   0,   0,   0,   0,   0],\n",
            "       [  0,   0,   0,   0,   0,   0,   0,   0,   0,   0,   0,   0,  84, 206, 254, 254, 254, 254,  41,   0,   0,   0,   0,   0,   0,   0,   0,   0],\n",
            "       [  0,   0,   0,   0,   0,   0,   0,   0,   0,   0,   0,   0,   0,  24, 209, 254, 254, 254, 171,   0,   0,   0,   0,   0,   0,   0,   0,   0],\n",
            "       [  0,   0,   0,   0,   0,   0,   0,   0,   0,   0,   0,   0,  91, 137, 253, 254, 254, 254, 112,   0,   0,   0,   0,   0,   0,   0,   0,   0],\n",
            "       [  0,   0,   0,   0,   0,   0,   0,   0,   0,   0,  40, 214, 250, 254, 254, 254, 254, 254,  34,   0,   0,   0,   0,   0,   0,   0,   0,   0],\n",
            "       [  0,   0,   0,   0,   0,   0,   0,   0,   0,   0,  81, 247, 254, 254, 254, 254, 254, 254, 146,   0,   0,   0,   0,   0,   0,   0,   0,   0],\n",
            "       [  0,   0,   0,   0,   0,   0,   0,   0,   0,   0,   0, 110, 246, 254, 254, 254, 254, 254, 171,   0,   0,   0,   0,   0,   0,   0,   0,   0],\n",
            "       [  0,   0,   0,   0,   0,   0,   0,   0,   0,   0,   0,   0,  73,  89,  89,  93, 240, 254, 171,   0,   0,   0,   0,   0,   0,   0,   0,   0],\n",
            "       [  0,   0,   0,   0,   0,   0,   0,   0,   0,   0,   0,   0,   0,   0,   0,   1, 128, 254, 219,  31,   0,   0,   0,   0,   0,   0,   0,   0],\n",
            "       [  0,   0,   0,   0,   0,   0,   0,   0,   0,   0,   0,   0,   0,   0,   0,   7, 254, 254, 214,  28,   0,   0,   0,   0,   0,   0,   0,   0],\n",
            "       [  0,   0,   0,   0,   0,   0,   0,   0,   0,   0,   0,   0,   0,   0,   0, 138, 254, 254, 116,   0,   0,   0,   0,   0,   0,   0,   0,   0],\n",
            "       [  0,   0,   0,   0,   0,   0,  19, 177,  90,   0,   0,   0,   0,   0,  25, 240, 254, 254,  34,   0,   0,   0,   0,   0,   0,   0,   0,   0],\n",
            "       [  0,   0,   0,   0,   0,   0, 164, 254, 215,  63,  36,   0,  51,  89, 206, 254, 254, 139,   8,   0,   0,   0,   0,   0,   0,   0,   0,   0],\n",
            "       [  0,   0,   0,   0,   0,   0,  57, 197, 254, 254, 222, 180, 241, 254, 254, 253, 213,  11,   0,   0,   0,   0,   0,   0,   0,   0,   0,   0],\n",
            "       [  0,   0,   0,   0,   0,   0,   0, 140, 105, 254, 254, 254, 254, 254, 254, 236,   0,   0,   0,   0,   0,   0,   0,   0,   0,   0,   0,   0],\n",
            "       [  0,   0,   0,   0,   0,   0,   0,   0,   7, 117, 117, 165, 254, 254, 239,  50,   0,   0,   0,   0,   0,   0,   0,   0,   0,   0,   0,   0],\n",
            "       [  0,   0,   0,   0,   0,   0,   0,   0,   0,   0,   0,   0,   0,   0,   0,   0,   0,   0,   0,   0,   0,   0,   0,   0,   0,   0,   0,   0],\n",
            "       [  0,   0,   0,   0,   0,   0,   0,   0,   0,   0,   0,   0,   0,   0,   0,   0,   0,   0,   0,   0,   0,   0,   0,   0,   0,   0,   0,   0],\n",
            "       [  0,   0,   0,   0,   0,   0,   0,   0,   0,   0,   0,   0,   0,   0,   0,   0,   0,   0,   0,   0,   0,   0,   0,   0,   0,   0,   0,   0],\n",
            "       [  0,   0,   0,   0,   0,   0,   0,   0,   0,   0,   0,   0,   0,   0,   0,   0,   0,   0,   0,   0,   0,   0,   0,   0,   0,   0,   0,   0]], dtype=uint8)\n"
          ]
        }
      ],
      "source": [
        "import numpy as np\n",
        "def pretty_print(np_array):\n",
        "    array_str = np.array_repr(np_array).replace('],\\n', '**').replace('\\n       ', '').replace('**', '],\\n')#.replace(', ', '')\n",
        "    print(array_str)\n",
        "\n",
        "sample_idx = 10\n",
        "X_sample = X_train_raw[sample_idx]\n",
        "pretty_print(X_sample)"
      ]
    },
    {
      "cell_type": "code",
      "execution_count": null,
      "metadata": {
        "id": "jlea5sI3VAOS",
        "colab": {
          "base_uri": "https://localhost:8080/",
          "height": 448
        },
        "outputId": "5e88a245-0afa-4881-caa4-76ef7ef99b81"
      },
      "outputs": [
        {
          "output_type": "execute_result",
          "data": {
            "text/plain": [
              "<matplotlib.image.AxesImage at 0x7c2d493e68c0>"
            ]
          },
          "metadata": {},
          "execution_count": 33
        },
        {
          "output_type": "display_data",
          "data": {
            "text/plain": [
              "<Figure size 640x480 with 1 Axes>"
            ],
            "image/png": "[encoded data removed]"
          },
          "metadata": {}
        }
      ],
      "source": [
        "from matplotlib import pyplot as plt\n",
        "\n",
        "#print(plt.cm.cmap_d.keys())\n",
        "plt.imshow(X_sample, cmap = plt.cm.binary)"
      ]
    },
    {
      "cell_type": "markdown",
      "metadata": {
        "id": "eHwc4LcSeW1H"
      },
      "source": [
        "# [Step 4] Data Preprocession\n",
        "\n"
      ]
    },
    {
      "cell_type": "markdown",
      "metadata": {
        "id": "TAeEYt6uebXV"
      },
      "source": [
        "## X: Normalize the Data to [0,1]"
      ]
    },
    {
      "cell_type": "markdown",
      "metadata": {
        "id": "B71piImpTiW9"
      },
      "source": [
        "\n",
        "\n",
        "<br>\n",
        "In the case of RGB, the first dimension pixels would be 3 for the red, green and blue components and it would be like having 3 image inputs for every color image. In the case of MNIST where the pixel values are gray scale, the pixel dimension is set to 1."
      ]
    },
    {
      "cell_type": "markdown",
      "metadata": {
        "id": "6osjFpXyQgWj"
      },
      "source": [
        "Then we normalize the pixel values to the range 0 and 1."
      ]
    },
    {
      "cell_type": "markdown",
      "metadata": {
        "id": "e3K-vaaMpbIz"
      },
      "source": [
        "**Why normalize?**\n",
        "\n",
        "Neural networks process inputs using small weight values, and inputs with large integer values can disrupt or slow down the learning process. As such it is good practice to normalize the pixel values so that each pixel value has a value between 0 and 1\n",
        "\n",
        "[Read more about normalization here](https://machinelearningmastery.com/how-to-manually-scale-image-pixel-data-for-deep-learning/#:~:text=Normalize%20Pixel%20Values,-For%20most%20image&text=Neural%20networks%20process%20inputs%20using,value%20between%200%20and%201.)"
      ]
    },
    {
      "cell_type": "code",
      "execution_count": null,
      "metadata": {
        "id": "_zBG24odQgWk",
        "colab": {
          "base_uri": "https://localhost:8080/"
        },
        "outputId": "f156ed1a-12b2-4b73-9b69-f933ee495f79"
      },
      "outputs": [
        {
          "output_type": "stream",
          "name": "stdout",
          "text": [
            "(60000, 28, 28)\n"
          ]
        }
      ],
      "source": [
        "# normalize inputs from 0-255 to 0-1\n",
        "X_train = X_train_raw / 255\n",
        "X_test  = X_test_raw  / 255\n",
        "\n",
        "\n",
        "print(X_train.shape)"
      ]
    },
    {
      "cell_type": "markdown",
      "metadata": {
        "id": "g8XApf8T2QMG"
      },
      "source": [
        "## y Transformation\n",
        "\n",
        "We don't have specific transformation for `y` data\n",
        "\n"
      ]
    },
    {
      "cell_type": "markdown",
      "metadata": {
        "id": "kMk5DKIs6ziB"
      },
      "source": []
    },
    {
      "cell_type": "code",
      "execution_count": null,
      "metadata": {
        "id": "Yid7xpsy2Pev"
      },
      "outputs": [],
      "source": [
        "y_train = y_train_raw\n",
        "y_test  = y_test_raw"
      ]
    },
    {
      "cell_type": "markdown",
      "metadata": {
        "id": "1mXjqf1NQgWn"
      },
      "source": [
        "#[Step 5] **RUN**: Setting Up the Neural Network Architecture\n",
        "\n",
        "**Design the neural network architecture**\n",
        "\n",
        "1. First, we are going to create the model framework. It is like the basic structure of a house without furniture and room layouts\n",
        "2. Next we will add the flatten layer which we can input an image. This layer will flatten the image to a vector so we can pass it in to the neural network. Each pixel of the image will become an individual input that feeds in the next hidden layer\n",
        "3. The next layer is a fully connected with 128 neurons. Because the neurals are all close to each other, we cal it the \"dense\" layer . Each neuron on this layer are fully connected to the last layer. It takes the input from last layer, aggregate them and run them through a \"Relu\" function. \"Relu\" is an activation function which will transform the aggregated result in each neuron\n",
        "4. The next layer is our output layer. The output layer has 10 neurons because we have 10 different digits in this classification problems. We feed the results from last layer to a softmax activation function to output probability-like predictions for each class. The digits with the highest probability is what the algorithm thought the digit to be\n",
        "5. The model is trained using categorical cross entropy loss function and the ADAM optimizer for gradient descent."
      ]
    },
    {
      "cell_type": "markdown",
      "metadata": {
        "id": "sqUITJeDkzM5"
      },
      "source": [
        "**Now we are going to define a function to help us create a base model with the layers we dicussed**\n",
        "\n",
        "Quick note: we use the **\"def\"** keyword in python to define a function. By defining a function, it increases the reusability and save us time when we want to create the same model. So that we don't have to write out all the layers every time.\n"
      ]
    },
    {
      "cell_type": "code",
      "execution_count": null,
      "metadata": {
        "id": "Y6zTEc6TQgWo"
      },
      "outputs": [],
      "source": [
        "def baseline_model():\n",
        "    # Create a model\n",
        "    model = Sequential()\n",
        "    # Add different layers to your model\n",
        "    model.add(Flatten(input_shape=(28, 28)))\n",
        "    model.add(Dense(32, activation='relu'))\n",
        "    model.add(Dense(32, activation='relu'))\n",
        "    model.add(Dense(50, activation='relu'))\n",
        "    model.add(Dense(10, activation='sigmoid'))\n",
        "    # Compile model\n",
        "    model.compile(loss='sparse_categorical_crossentropy', optimizer='adam', metrics=['accuracy'])\n",
        "    return model"
      ]
    },
    {
      "cell_type": "markdown",
      "metadata": {
        "id": "4X85NGMBQgWr"
      },
      "source": [
        "---\n",
        "![APPLY](https://mooc-styleguide.s3.amazonaws.com/MOOC-Styles/Active+Learning+Headers/Links/ALH_Apply.png)\n",
        "#[Step 6] **APPLY**: Train Fully Connected Neural Network for Digit Recognition on Train Set\n",
        "\n",
        "With our environment set up and data loaded, we can now train, test, and evaluate our model to recognize the 10 different digits. To do this, we will use the train set and test set we created in step 2 to train our model.\n",
        "Running the example, the accuracy on the training and validation test is printed each epoch and at the end of the classification error rate is printed.\n",
        "\n",
        "\n",
        "**Train the model**\n"
      ]
    },
    {
      "cell_type": "code",
      "execution_count": null,
      "metadata": {
        "id": "ubfFl-TjySdi",
        "colab": {
          "base_uri": "https://localhost:8080/"
        },
        "outputId": "26bbb20e-0046-4890-89ad-d4ae358c02a3"
      },
      "outputs": [
        {
          "output_type": "stream",
          "name": "stdout",
          "text": [
            "Model: \"sequential_1\"\n",
            "_________________________________________________________________\n",
            " Layer (type)                Output Shape              Param #   \n",
            "=================================================================\n",
            " flatten_1 (Flatten)         (None, 784)               0         \n",
            "                                                                 \n",
            " dense_4 (Dense)             (None, 32)                25120     \n",
            "                                                                 \n",
            " dense_5 (Dense)             (None, 32)                1056      \n",
            "                                                                 \n",
            " dense_6 (Dense)             (None, 50)                1650      \n",
            "                                                                 \n",
            " dense_7 (Dense)             (None, 10)                510       \n",
            "                                                                 \n",
            "=================================================================\n",
            "Total params: 28336 (110.69 KB)\n",
            "Trainable params: 28336 (110.69 KB)\n",
            "Non-trainable params: 0 (0.00 Byte)\n",
            "_________________________________________________________________\n"
          ]
        }
      ],
      "source": [
        "# Call the function we defined earlier to create the model\n",
        "# The trainable parameters within the new model are set by the default initialization methods from Keras.\n",
        "model = baseline_model()\n",
        "model.summary()"
      ]
    },
    {
      "cell_type": "code",
      "execution_count": null,
      "metadata": {
        "id": "bjwjRkvtQgWs",
        "colab": {
          "base_uri": "https://localhost:8080/"
        },
        "outputId": "1ae08703-4503-461c-d437-efb902cb05f2"
      },
      "outputs": [
        {
          "output_type": "stream",
          "name": "stdout",
          "text": [
            "Epoch 1/5\n",
            "300/300 [==============================] - 3s 7ms/step - loss: 0.5803 - accuracy: 0.8322\n",
            "Epoch 2/5\n",
            "300/300 [==============================] - 1s 4ms/step - loss: 0.2397 - accuracy: 0.9302\n",
            "Epoch 3/5\n",
            "300/300 [==============================] - 1s 4ms/step - loss: 0.1859 - accuracy: 0.9452\n",
            "Epoch 4/5\n",
            "300/300 [==============================] - 1s 4ms/step - loss: 0.1561 - accuracy: 0.9545\n",
            "Epoch 5/5\n",
            "300/300 [==============================] - 1s 4ms/step - loss: 0.1360 - accuracy: 0.9600\n"
          ]
        },
        {
          "output_type": "execute_result",
          "data": {
            "text/plain": [
              "<keras.src.callbacks.History at 0x7c2d494329e0>"
            ]
          },
          "metadata": {},
          "execution_count": 40
        }
      ],
      "source": [
        "# Train the model using the picture stored in X_train and the corresponding labels stored in Y_train\n",
        "model.fit(X_train, y_train, epochs=5, batch_size=200, verbose=1) #verbose =1 will show the progress bar"
      ]
    },
    {
      "cell_type": "markdown",
      "metadata": {
        "id": "hobO9fxIZA4D"
      },
      "source": [
        "# [Step 7] Evaluate the Model Performance on the Test Set\n",
        "\n",
        "<br>\n",
        "X_test include the new digit images the model has never seen\n",
        "<br>\n",
        "y_test include the correct labels of the test set\n",
        "\n",
        "\n",
        "\n"
      ]
    },
    {
      "cell_type": "code",
      "execution_count": null,
      "metadata": {
        "id": "pwsRIh6iGCkY",
        "colab": {
          "base_uri": "https://localhost:8080/"
        },
        "outputId": "dc9ce976-54a5-42f5-cb3c-13d88adfff37"
      },
      "outputs": [
        {
          "output_type": "stream",
          "name": "stdout",
          "text": [
            "Simple NN Accuracy: 95.82%\n",
            "Simple NN Error:    4.18%\n"
          ]
        }
      ],
      "source": [
        "# Final evaluation of the model\n",
        "scores = model.evaluate(X_test, y_test, verbose=0) # scores has [loss] and [accuracy]\n",
        "#Print out the error rate\n",
        "print('Simple NN Accuracy: %.2f%%'% (scores[1]*100))\n",
        "print(\"Simple NN Error:    %.2f%%\"% (100-scores[1]*100))"
      ]
    },
    {
      "cell_type": "markdown",
      "metadata": {
        "id": "PxPlt5dmqOoz"
      },
      "source": [
        "# ** By now, the job is done. However, it is always good to inspect results carefully. **"
      ]
    },
    {
      "cell_type": "markdown",
      "metadata": {
        "id": "sEwzzomkbbHH"
      },
      "source": [
        "#[Step 8] Define a function to display the image and the predicted label to check model performance"
      ]
    },
    {
      "cell_type": "code",
      "execution_count": null,
      "metadata": {
        "id": "paWr2KkdhQa2",
        "colab": {
          "base_uri": "https://localhost:8080/"
        },
        "outputId": "56529380-bc3d-4a0e-ee1d-3952a616bb48"
      },
      "outputs": [
        {
          "output_type": "stream",
          "name": "stdout",
          "text": [
            "313/313 [==============================] - 1s 2ms/step\n"
          ]
        }
      ],
      "source": [
        "# Make predictions using the model\n",
        "predictions = model.predict(X_test)"
      ]
    },
    {
      "cell_type": "code",
      "execution_count": null,
      "metadata": {
        "id": "qpP6T0m8QgWx"
      },
      "outputs": [],
      "source": [
        "def plot_image(i, predictions_array, true_label, img):\n",
        "    predictions_array, true_label, img = predictions_array[i], true_label[i], img[i]\n",
        "    plt.grid(False)\n",
        "    plt.xticks([])\n",
        "    plt.yticks([])\n",
        "\n",
        "    plt.imshow(img, cmap=plt.cm.binary)\n",
        "\n",
        "    predicted_label = numpy.argmax(predictions_array)\n",
        "    # if the algorithm makes the right prediction, it will show a blue text, otherwise show in red text\n",
        "    if predicted_label == true_label:\n",
        "      color = 'blue'\n",
        "    else:\n",
        "      color = 'red'\n",
        "\n",
        "    plt.xlabel(\"{} {:2.0f}% ({})\".format(class_names[predicted_label],\n",
        "                                  100*numpy.max(predictions_array),\n",
        "                                  class_names[true_label]),\n",
        "                                  color=color)\n",
        "\n",
        "def plot_value_array(i, predictions_array, true_label):\n",
        "    predictions_array, true_label = predictions_array[i], true_label[i]\n",
        "    plt.grid(False)\n",
        "    plt.xticks([])\n",
        "    plt.yticks([])\n",
        "    thisplot = plt.bar(range(10), predictions_array, color=\"#777777\")\n",
        "    plt.ylim([0, 1])\n",
        "    predicted_label = numpy.argmax(predictions_array)\n",
        "\n",
        "    thisplot[predicted_label].set_color('red')\n",
        "    thisplot[true_label].set_color('blue')"
      ]
    },
    {
      "cell_type": "code",
      "execution_count": null,
      "metadata": {
        "id": "MHJtNrO5QgW3",
        "colab": {
          "base_uri": "https://localhost:8080/",
          "height": 517
        },
        "outputId": "3cc0e716-6777-4d0c-9695-70c4cc836480"
      },
      "outputs": [
        {
          "output_type": "display_data",
          "data": {
            "text/plain": [
              "<Figure size 600x300 with 1 Axes>"
            ],
            "image/png": "[encoded data removed]"
          },
          "metadata": {}
        },
        {
          "output_type": "display_data",
          "data": {
            "text/plain": [
              "<Figure size 600x300 with 1 Axes>"
            ],
            "image/png": "[encoded data removed]"
          },
          "metadata": {}
        }
      ],
      "source": [
        "# Load the data and create a list of class names\n",
        "class_names = [0, 1, 2, 3, 4, 5, 6, 7, 8, 9]\n",
        "\n",
        "# Let's examine the 1st and the 19th image to check for accuracy\n",
        "image_sample_idxes = [0, 18]\n",
        "for i in image_sample_idxes:\n",
        "    plt.figure(figsize=(6, 3))\n",
        "    plt.subplot(1, 2, 1)\n",
        "    plot_image(i, predictions, y_test_raw, X_test_raw)"
      ]
    },
    {
      "cell_type": "code",
      "execution_count": null,
      "metadata": {
        "id": "RGCiFTZD3qBA",
        "colab": {
          "base_uri": "https://localhost:8080/"
        },
        "outputId": "e63ca14e-3acd-431a-e145-be46a104e2c4"
      },
      "outputs": [
        {
          "output_type": "stream",
          "name": "stdout",
          "text": [
            "[8, 124, 149, 195, 241, 247, 259, 320, 321, 340]\n",
            "418\n"
          ]
        }
      ],
      "source": [
        "# Time to check the ones that the algorithm missed\n",
        "\n",
        "\n",
        "def check_wrong(i, predictions_array, true_label, img):\n",
        "    predictions_array, true_label, img = predictions_array[i], true_label[i], img[i]\n",
        "\n",
        "    predicted_label = numpy.argmax(predictions_array)\n",
        "    if predicted_label == true_label:\n",
        "        return False\n",
        "    else:\n",
        "        return True\n",
        "\n",
        "\n",
        "wrong_prediction_images_index = []\n",
        "for i in range(len(predictions)):\n",
        "    if check_wrong(i, predictions, y_test_raw, X_test_raw) == True:\n",
        "        wrong_prediction_images_index.append(i)\n",
        "\n",
        "print(wrong_prediction_images_index[:10])\n",
        "print(len(wrong_prediction_images_index))"
      ]
    },
    {
      "cell_type": "code",
      "execution_count": null,
      "metadata": {
        "id": "uKfccECQQgW6",
        "colab": {
          "base_uri": "https://localhost:8080/",
          "height": 767
        },
        "outputId": "e05c661b-c0a9-40f2-d215-7e9a7f26508f"
      },
      "outputs": [
        {
          "output_type": "display_data",
          "data": {
            "text/plain": [
              "<Figure size 600x300 with 1 Axes>"
            ],
            "image/png": "[encoded data removed]"
          },
          "metadata": {}
        },
        {
          "output_type": "display_data",
          "data": {
            "text/plain": [
              "<Figure size 600x300 with 1 Axes>"
            ],
            "image/png": "[encoded data removed]"
          },
          "metadata": {}
        },
        {
          "output_type": "display_data",
          "data": {
            "text/plain": [
              "<Figure size 600x300 with 1 Axes>"
            ],
            "image/png": "[encoded data removed]"
          },
          "metadata": {}
        }
      ],
      "source": [
        "def plot_wrong(i, predictions_array, true_label, img):\n",
        "    predictions_array, true_label, img = predictions_array[i], true_label[i], img[i]\n",
        "\n",
        "    predicted_label = numpy.argmax(predictions_array)\n",
        "    if predicted_label == true_label:\n",
        "        pass\n",
        "    else:\n",
        "        plt.figure(figsize=(6,3))\n",
        "        plt.subplot(1,2,1)\n",
        "        plot_image(i, predictions, y_test_raw, X_test_raw)\n",
        "\n",
        "# We are going to check the first 100 images to see which one the model predicted wrong\n",
        "\n",
        "top_k = 3\n",
        "for i in wrong_prediction_images_index[:top_k]:\n",
        "    plot_wrong(i, predictions, y_test_raw, X_test_raw)"
      ]
    },
    {
      "cell_type": "code",
      "source": [],
      "metadata": {
        "id": "YTaG87vF0FhI"
      },
      "execution_count": null,
      "outputs": []
    },
    {
      "cell_type": "markdown",
      "metadata": {
        "id": "46jbVZVNcaqX"
      },
      "source": [
        "---\n",
        "![Learn](https://mooc-styleguide.s3.amazonaws.com/MOOC-Styles/Active+Learning+Headers/Links/ALH_Learn.png)\n",
        "\n",
        "\n",
        "# [Step 9] **READ**: Conclusions\n",
        "This is a relatively simple and easy to understand model for us to get a view of how powerful neural network is in classification problems like digit recognition. We introduced the basic framework to create and train the fully connected neural network for our own use. We will get more in-depth into other image recognition topics later on in the course. But now let's discuss some of the questions you have.\n",
        "\n",
        "**What are some use cases to apply the image recognition algorithm in your everyday work?**\n",
        "\n",
        "\n",
        "*   \n",
        "*   \n",
        "\n",
        "\n",
        "\n",
        "**Q2...**\n",
        "\n",
        "\n",
        "*   \n",
        "*   \n",
        "\n",
        "**Q3...**\n",
        "*\n",
        "*"
      ]
    },
    {
      "cell_type": "markdown",
      "metadata": {
        "id": "7Nt_K0CvdijK"
      },
      "source": [
        "---\n",
        "![Practice](https://mooc-styleguide.s3.amazonaws.com/MOOC-Styles/Active+Learning+Headers/Links/ALH_Practice.png)\n",
        "# [Step 10] **LIVE SESSION PRACTICE**: Try Your Own Model!\n",
        "* Currently the model's accuracy is around 93%, not too bad. But can you think of ways to push the accuracy over 95%?\n",
        "\n",
        "\n",
        "<br>\n",
        "\n",
        "\n",
        "> (Hint) We trained the model with 5 epoches (i.e., going through the whole training dataset five times using backpropagation). Do you think the model has learned enough? Can we make it learn more by doing 10 epoches? Try it and see.\n",
        "\n",
        "Other tips:\n",
        "\n",
        "* redistribute the neurons between the two hidden layers\n",
        "* change the model structure by adding more layers\n",
        "* change the activation function to a fancier one called \"softmax\"\n",
        "\n",
        "\n",
        "<br>\n",
        "<br>\n",
        "Once you have modified the model, you can run it by clicking \"Runtime/Restar and run all\". Do you see the accuracy increased as a result?\n",
        "\n",
        "<br>\n",
        "<br>\n",
        "\n",
        "\n",
        "Have fun!\n",
        "\n"
      ]
    },
    {
      "cell_type": "code",
      "execution_count": null,
      "metadata": {
        "id": "347blP-sQgW9"
      },
      "outputs": [],
      "source": [
        "# Credit to Jason Brownlee\n",
        "# https://machinelearningmastery.com/handwritten-digit-recognition-using-convolutional-neural-networks-python-keras/"
      ]
    }
  ],
  "metadata": {
    "colab": {
      "collapsed_sections": [
        "GyGigtEvQgWV",
        "QXRYiSQRTtvl",
        "RkWYaq4fabpm",
        "eHwc4LcSeW1H",
        "1mXjqf1NQgWn",
        "4X85NGMBQgWr",
        "hobO9fxIZA4D",
        "sEwzzomkbbHH",
        "7Nt_K0CvdijK"
      ],
      "provenance": [],
      "toc_visible": true,
      "include_colab_link": true
    },
    "kernelspec": {
      "display_name": "Python 3",
      "language": "python",
      "name": "python3"
    },
    "language_info": {
      "codemirror_mode": {
        "name": "ipython",
        "version": 3
      },
      "file_extension": ".py",
      "mimetype": "text/x-python",
      "name": "python",
      "nbconvert_exporter": "python",
      "pygments_lexer": "ipython3",
      "version": "3.6.7"
    }
  },
  "nbformat": 4,
  "nbformat_minor": 0
}